{
 "cells": [
  {
   "cell_type": "markdown",
   "metadata": {},
   "source": [
    "# Learning objectives\n",
    "\n",
    "By the end of this lesson, students will be able to:\n",
    "\n",
    "* Write code within and navigate the Jupyter Notebook development environment.\n",
    "* Be able to write programs that involve Python fundamentals, such as:\n",
    "    * `print`\n",
    "    * `for` loops\n",
    "    * Conditionals: `if`, `elif`, `else`\n",
    "    * The `list` and `dict`ionary data structures\n",
    "* Use functions and understand _when_ and _why_ to use them.\n",
    "* Understand how common external libraries extend the functionality of Python."
   ]
  },
  {
   "cell_type": "markdown",
   "metadata": {
    "run_control": {
     "frozen": false,
     "read_only": false
    }
   },
   "source": [
    "# What is an iPython Notebook/Jupyter Notebook?"
   ]
  },
  {
   "cell_type": "markdown",
   "metadata": {},
   "source": [
    "* Format for presenting analyses that allows for text, images, and data analysis to exist in one file.\n",
    "* Python variables and functions persist across cells, making them great for development.\n",
    "* **Many** features that make Python development easier, such as \"cell magics\" (below)."
   ]
  },
  {
   "cell_type": "markdown",
   "metadata": {},
   "source": [
    "## Why \"Jupyter\"?\n",
    "\n",
    "* Jupyter notebooks can run languages other than Python. They are called \"Jupyter\" Notebooks because they can run \"**Julia**\", \"**Python**\", and \"**R**\"."
   ]
  },
  {
   "cell_type": "markdown",
   "metadata": {},
   "source": [
    "## Example of Blended Notebook Content\n",
    "\n",
    "The result of using Jupyter Notebooks is that you end up with notebooks that look like this, combining static visuals with code and interactive components. \n",
    "![](http://soph.info/metis/blackrock_python/jupyter_knn_dtw.png)"
   ]
  },
  {
   "cell_type": "markdown",
   "metadata": {},
   "source": [
    "## Execution and Use"
   ]
  },
  {
   "cell_type": "markdown",
   "metadata": {},
   "source": [
    "Cells can be executed - running the code within them - in different ways:\n",
    "* `shift + return`: execute current cell and move to next cell\n",
    "* `control + return`: execute current cell without moving to next cell\n",
    "* `option + return`: execute current cell and insert new cell below"
   ]
  },
  {
   "cell_type": "markdown",
   "metadata": {},
   "source": [
    "## Types of Cells"
   ]
  },
  {
   "cell_type": "code",
   "execution_count": null,
   "metadata": {
    "ExecuteTime": {
     "end_time": "2018-03-26T22:51:12.183415Z",
     "start_time": "2018-03-26T22:51:12.173397Z"
    }
   },
   "outputs": [],
   "source": [
    "# This is a cell with Python code\n",
    "a = 5\n",
    "b = a + 4\n",
    "print(\"The value of b is:\", b)"
   ]
  },
  {
   "cell_type": "markdown",
   "metadata": {},
   "source": [
    "## Other Types of Cells"
   ]
  },
  {
   "cell_type": "markdown",
   "metadata": {},
   "source": [
    "Each Jupyter Notebook cell can contain one of the following:\n",
    "* Code\n",
    "* Markdown (text, images)\n",
    "* LaTeX (equations)\n",
    "* HTML"
   ]
  },
  {
   "cell_type": "markdown",
   "metadata": {},
   "source": [
    "## Cell Magics\n",
    "\n",
    "Jupyter notebooks use something called a \"magic\" to modify functionality of either the current cell or the whole notebook.\n",
    "\n",
    "Some examples:\n",
    "* `%matplotlib inline`: display all plots inline in Jupyter notebook (we will use this one)\n",
    "* `%load filename.py`: replace cell with file contents\n",
    "* `%%time`: time how long a cell takes to execute\n"
   ]
  },
  {
   "cell_type": "markdown",
   "metadata": {},
   "source": [
    "# Tab Completion\n",
    "\n",
    "One of the most useful things about Jupyter Notebooks is their tab completion functionality.  \n",
    "Try this: \n",
    "\n",
    "1. Run the code in the `import pandas` cell.\n",
    "2. Click just after read_csv( in the cell below and press Shift+Tab 4 times, slowly"
   ]
  },
  {
   "cell_type": "code",
   "execution_count": null,
   "metadata": {
    "ExecuteTime": {
     "end_time": "2018-03-26T22:51:22.995577Z",
     "start_time": "2018-03-26T22:51:21.936922Z"
    }
   },
   "outputs": [],
   "source": [
    "import pandas as pd"
   ]
  },
  {
   "cell_type": "code",
   "execution_count": null,
   "metadata": {},
   "outputs": [],
   "source": [
    "pd.read_csv("
   ]
  },
  {
   "cell_type": "markdown",
   "metadata": {},
   "source": [
    "After the first time, you should see this:\n",
    "    <img src=\"http://soph.info/metis/blackrock_python/tab-once.png\" width=\"75%\" >"
   ]
  },
  {
   "cell_type": "markdown",
   "metadata": {},
   "source": [
    "After the second time, you should see this:\n",
    "        <img src=\"./tab-twice.png\" width=\"75%\" >"
   ]
  },
  {
   "cell_type": "markdown",
   "metadata": {},
   "source": [
    "After the fourth time, a big help box should pop up at the bottom of the screen, with the full documentation for the read_csv function:\n",
    "    <img src=\"http://soph.info/metis/blackrock_python/tab-4-times.png\" width=\"75%\" >"
   ]
  },
  {
   "cell_type": "markdown",
   "metadata": {},
   "source": [
    "Okay, let's try tab completion for function names!"
   ]
  },
  {
   "cell_type": "code",
   "execution_count": null,
   "metadata": {},
   "outputs": [],
   "source": [
    "pd.r"
   ]
  },
  {
   "cell_type": "markdown",
   "metadata": {},
   "source": [
    "You should see this:\n",
    "    <img src=\"http://soph.info/metis/blackrock_python/function-completion.png\" width=\"30%\">"
   ]
  },
  {
   "cell_type": "markdown",
   "metadata": {},
   "source": [
    "This is very convenient - tools like this are why data scientists and developers love Jupyter Notebooks!"
   ]
  },
  {
   "cell_type": "markdown",
   "metadata": {},
   "source": [
    "Keyboard shortcuts can be viewed from `Help` --> `Keyboard Shortcuts` : \n",
    "\n",
    "![](http://soph.info/metis/blackrock_python/jupyter_windows_shortcuts.png)"
   ]
  },
  {
   "cell_type": "markdown",
   "metadata": {
    "run_control": {
     "frozen": false,
     "read_only": false
    },
    "slideshow": {
     "slide_type": "-"
    }
   },
   "source": [
    "# Intro to Python "
   ]
  },
  {
   "cell_type": "markdown",
   "metadata": {},
   "source": [
    "## Why Python vs *another language*?\n",
    "\n",
    "- Emphasizes readability and ease of use over speed\n",
    "\n",
    "> Programs must be written for people to read, and only incidentally for machines to execute.  \n",
    "—Abelson & Sussman, Structure and Interpretation of Computer Programs\n",
    "\n",
    "- “Batteries included” - easy to get started\n",
    "- General purpose - not only is Python great for data science, you can also use it build everything from games to  web servers. "
   ]
  },
  {
   "cell_type": "markdown",
   "metadata": {
    "run_control": {
     "frozen": false,
     "read_only": false
    },
    "slideshow": {
     "slide_type": "-"
    }
   },
   "source": [
    "Let's get started with the most basic programming example: 'Hello world.'"
   ]
  },
  {
   "cell_type": "markdown",
   "metadata": {
    "run_control": {
     "frozen": false,
     "read_only": false
    }
   },
   "source": [
    "## Hello World - the starting point of champions"
   ]
  },
  {
   "cell_type": "markdown",
   "metadata": {},
   "source": [
    "Using the `print` statement"
   ]
  },
  {
   "cell_type": "code",
   "execution_count": null,
   "metadata": {
    "ExecuteTime": {
     "end_time": "2018-03-26T22:51:36.039865Z",
     "start_time": "2018-03-26T22:51:36.032396Z"
    },
    "run_control": {
     "frozen": false,
     "read_only": false
    }
   },
   "outputs": [],
   "source": [
    "print('Hello World')\n",
    "# To run a cell in a Jupyter Notebook you can either click the \"Run button\" or press \"Shift+Enter\""
   ]
  },
  {
   "cell_type": "markdown",
   "metadata": {},
   "source": [
    "Using a variable:"
   ]
  },
  {
   "cell_type": "code",
   "execution_count": null,
   "metadata": {
    "ExecuteTime": {
     "end_time": "2018-03-26T22:51:38.313908Z",
     "start_time": "2018-03-26T22:51:38.307643Z"
    },
    "run_control": {
     "frozen": false,
     "read_only": false
    }
   },
   "outputs": [],
   "source": [
    "word_to_print = \"Hello World\" # Here we're creating a variable with a string in it!\n",
    "print(word_to_print)"
   ]
  },
  {
   "cell_type": "markdown",
   "metadata": {},
   "source": [
    "The `print` statement can combine variables with strings inside the `print` statement:"
   ]
  },
  {
   "cell_type": "code",
   "execution_count": null,
   "metadata": {
    "ExecuteTime": {
     "end_time": "2018-03-26T22:51:39.853778Z",
     "start_time": "2018-03-26T22:51:39.847064Z"
    }
   },
   "outputs": [],
   "source": [
    "world_variable = \"World!\" \n",
    "print(\"Hello\", world_variable)"
   ]
  },
  {
   "cell_type": "markdown",
   "metadata": {},
   "source": [
    "### Quiz:"
   ]
  },
  {
   "cell_type": "markdown",
   "metadata": {},
   "source": [
    "Using a variable as in the cell above, write code that prints the string \"Hello, my name is [your name]\". If your name is \"Michael\", it would print \"Hello, my name is Michael.\"\n",
    "\n",
    "**Hint:** Programmers alomst always get things done by copying and pasting other code as a starting point. Don't write this from scratch: simply modify the code below (which we have copy-pasted for you):"
   ]
  },
  {
   "cell_type": "code",
   "execution_count": null,
   "metadata": {
    "ExecuteTime": {
     "end_time": "2018-03-26T22:52:21.741755Z",
     "start_time": "2018-03-26T22:52:21.734867Z"
    }
   },
   "outputs": [],
   "source": [
    "name_variable = \"World!\" # Hint: replace the contents of this string\n",
    "print(\"Hello\", name_variable) # Hint: modify the first string inside the \"print\" statement here."
   ]
  },
  {
   "cell_type": "markdown",
   "metadata": {},
   "source": [
    "Now we've introduced the idea of variables. In Python, we don't have to tell the code in advance what our variable 'type' will be. A type helps tell Python what our variable is storing for us. So for instance, let's look at the type for `name_variable` and the type of a number. "
   ]
  },
  {
   "cell_type": "code",
   "execution_count": null,
   "metadata": {
    "ExecuteTime": {
     "end_time": "2018-03-26T22:52:25.033959Z",
     "start_time": "2018-03-26T22:52:25.022628Z"
    },
    "run_control": {
     "frozen": false,
     "read_only": false
    }
   },
   "outputs": [],
   "source": [
    "print(\"The type of 'name_variable':\", type(name_variable))\n",
    "print(\"The type of '1':\", type(1))\n",
    "print(\"The type of 'bob':\", type(\"bob\"))\n",
    "print(\"The type of '2.5':\", type(2.5))"
   ]
  },
  {
   "cell_type": "markdown",
   "metadata": {},
   "source": [
    "This is important because for many operations, objects have to be \"of the right type\" for us to perform the operation. Go ahead and run the cell below to see what I mean:"
   ]
  },
  {
   "cell_type": "code",
   "execution_count": null,
   "metadata": {
    "ExecuteTime": {
     "end_time": "2018-03-26T22:52:29.016276Z",
     "start_time": "2018-03-26T22:52:28.653705Z"
    }
   },
   "outputs": [],
   "source": [
    "string = \"The lonliest number\"\n",
    "number = 1\n",
    "number + string"
   ]
  },
  {
   "cell_type": "markdown",
   "metadata": {},
   "source": [
    "Because our objects are not \"of the right type\" we cannot perform this operation. "
   ]
  },
  {
   "cell_type": "markdown",
   "metadata": {},
   "source": [
    "We'll discuss how to do type checking to avoid this kind of thing using `if` statements later on."
   ]
  },
  {
   "cell_type": "markdown",
   "metadata": {},
   "source": [
    "## Pop Quiz: errors"
   ]
  },
  {
   "cell_type": "markdown",
   "metadata": {},
   "source": [
    "We have also hit another major programming milestone: we've gotten our first error! Now time for a quiz: what is the right thing to do when you get an error when programming?"
   ]
  },
  {
   "cell_type": "markdown",
   "metadata": {},
   "source": [
    "1. Give up.\n",
    "2. Panic.\n",
    "3. Google the error message, try to learn what caused the error, and view getting an error  as a necessary, valuable part of the experience of learning to code."
   ]
  },
  {
   "cell_type": "markdown",
   "metadata": {},
   "source": [
    "The answer, of course, is #2...but once you're done with that, do #3!"
   ]
  },
  {
   "cell_type": "markdown",
   "metadata": {},
   "source": [
    "## A quick review of math in Python:"
   ]
  },
  {
   "cell_type": "markdown",
   "metadata": {},
   "source": [
    "Here's a quick refresher on how to do basic arithmetic in Python:"
   ]
  },
  {
   "cell_type": "code",
   "execution_count": null,
   "metadata": {
    "ExecuteTime": {
     "end_time": "2018-03-26T22:52:36.011809Z",
     "start_time": "2018-03-26T22:52:35.995950Z"
    },
    "scrolled": true
   },
   "outputs": [],
   "source": [
    "print(\"7 + 2 =\", 7 + 2)\n",
    "print(\"7 - 2 =\", 7 - 2)\n",
    "print(\"7 * 2 =\", 7 * 2)\n",
    "print(\"7 / 2 =\", 7 / 2)\n",
    "print(\"7 ** 2 =\", 7 ** 2) # Exponentiation\n",
    "print(\"7 // 2 =\", 7 // 2) # Division without remainder\n",
    "print(\"7 % 2 =\", 7 % 2) # Remainder"
   ]
  },
  {
   "cell_type": "markdown",
   "metadata": {},
   "source": [
    "### Last data type: Booleans"
   ]
  },
  {
   "cell_type": "markdown",
   "metadata": {},
   "source": [
    "Python has a special value type associated with the values `True` and `False`:"
   ]
  },
  {
   "cell_type": "code",
   "execution_count": null,
   "metadata": {
    "ExecuteTime": {
     "end_time": "2018-03-26T22:52:39.839707Z",
     "start_time": "2018-03-26T22:52:39.829222Z"
    }
   },
   "outputs": [],
   "source": [
    "a = True\n",
    "b = False\n",
    "print(\"Type of a:\", type(a))\n",
    "print(\"Type of b:\", type(b))"
   ]
  },
  {
   "cell_type": "markdown",
   "metadata": {},
   "source": [
    "We can assign statements to be `True` or `False` as follows:"
   ]
  },
  {
   "cell_type": "code",
   "execution_count": null,
   "metadata": {
    "ExecuteTime": {
     "end_time": "2018-03-26T22:52:41.284494Z",
     "start_time": "2018-03-26T22:52:41.269403Z"
    }
   },
   "outputs": [],
   "source": [
    "seven_geq_two = 7 >= 2\n",
    "seven_leq_two = 7 <= 2\n",
    "\n",
    "print(\"Type of seven_geq_two:\", type(seven_geq_two))\n",
    "print(\"Type of seven_leq_two:\", type(seven_leq_two))\n",
    "print(\"7 >= 2 =\", seven_geq_two)\n",
    "print(\"7 <= 2 =\", seven_leq_two)"
   ]
  },
  {
   "cell_type": "markdown",
   "metadata": {},
   "source": [
    "## Python data structures"
   ]
  },
  {
   "cell_type": "markdown",
   "metadata": {},
   "source": [
    "Python is a language that can do virtually anything you would want a computer to do. However, even the most complicated Python functions ultimately boil down to manipulating basic objects - such as strings and numbers - stored in basic _data structures_ - especially **lists** and **dictionaries**."
   ]
  },
  {
   "cell_type": "markdown",
   "metadata": {},
   "source": [
    "Let's start by looking at lists:"
   ]
  },
  {
   "cell_type": "markdown",
   "metadata": {},
   "source": [
    "# Lists"
   ]
  },
  {
   "cell_type": "markdown",
   "metadata": {
    "run_control": {
     "frozen": false,
     "read_only": false
    }
   },
   "source": [
    "Lists are ordered collections of items:\n",
    "\n",
    "1. Their individual items can be anything - even other lists!\n",
    "2. We can add or subtract elements as we please.\n",
    "3. They're indexable, so we can extract elements at particular positions.\n",
    "4. We can iterate through them using `for` loops (we'll explain this later)\n",
    "\n",
    "Let's look at concrete examples that illustrate these facts:"
   ]
  },
  {
   "cell_type": "code",
   "execution_count": null,
   "metadata": {
    "ExecuteTime": {
     "end_time": "2018-03-26T22:52:45.606495Z",
     "start_time": "2018-03-26T22:52:45.594682Z"
    },
    "run_control": {
     "frozen": false,
     "read_only": false
    }
   },
   "outputs": [],
   "source": [
    "our_list = [\"Pittsburgh\",\"Chicago\",\"San Francisco\", [412, 312, 415]]\n",
    "print(\"Our list:\", our_list)\n",
    "print(\"Type of our list:\", type(our_list))"
   ]
  },
  {
   "cell_type": "code",
   "execution_count": null,
   "metadata": {
    "ExecuteTime": {
     "end_time": "2018-03-26T22:52:46.407515Z",
     "start_time": "2018-03-26T22:52:46.400443Z"
    },
    "run_control": {
     "frozen": false,
     "read_only": false
    }
   },
   "outputs": [],
   "source": [
    "our_list.append(\"New York\")\n",
    "print(\"Our list after adding an element:\", our_list)"
   ]
  },
  {
   "cell_type": "code",
   "execution_count": null,
   "metadata": {
    "ExecuteTime": {
     "end_time": "2018-03-26T22:52:48.268226Z",
     "start_time": "2018-03-26T22:52:48.257207Z"
    },
    "run_control": {
     "frozen": false,
     "read_only": false
    }
   },
   "outputs": [],
   "source": [
    "last_element = our_list.pop()\n",
    "print(\"Our list after 'popping off' an element:\", our_list)\n",
    "print()\n",
    "print(\"The 'popped' element:\", last_element)\n",
    "print(\"Type of the 'popped' element:\", type(last_element))"
   ]
  },
  {
   "cell_type": "markdown",
   "metadata": {},
   "source": [
    "Just to show that lists can contain lists and it's totally fine:"
   ]
  },
  {
   "cell_type": "code",
   "execution_count": null,
   "metadata": {
    "ExecuteTime": {
     "end_time": "2018-03-26T22:52:50.697131Z",
     "start_time": "2018-03-26T22:52:50.684154Z"
    }
   },
   "outputs": [],
   "source": [
    "print(\"Our list before 'popping' off the last element:\", our_list)\n",
    "print()\n",
    "last_element = our_list.pop()\n",
    "print(\"Out list after 'popping':\", our_list)\n",
    "print()\n",
    "print(\"The 'popped' element:\", last_element)\n",
    "print(\"Type of the 'popped' element:\", type(last_element))"
   ]
  },
  {
   "cell_type": "markdown",
   "metadata": {
    "run_control": {
     "frozen": false,
     "read_only": false
    }
   },
   "source": [
    "**Exercise 1:** Let's do 'hello world' but with lists. (solutions to all exercises at the bottom)\n",
    "\n",
    "> Create a variable called `hello_world_list` that has two elements: \n",
    "> the strings 'hello' and 'world'. Then print out that variable."
   ]
  },
  {
   "cell_type": "code",
   "execution_count": null,
   "metadata": {
    "ExecuteTime": {
     "end_time": "2018-03-26T22:52:51.982882Z",
     "start_time": "2018-03-26T22:52:51.978541Z"
    }
   },
   "outputs": [],
   "source": [
    "# Your solution here"
   ]
  },
  {
   "cell_type": "markdown",
   "metadata": {
    "run_control": {
     "frozen": false,
     "read_only": false
    }
   },
   "source": [
    "## Indexing, For Loops,  and More"
   ]
  },
  {
   "cell_type": "markdown",
   "metadata": {
    "run_control": {
     "frozen": false,
     "read_only": false
    }
   },
   "source": [
    "Now let's talk about indexing. Lists in Python know two things about each element: \n",
    "\n",
    "1. The element is value X (for instance the first element in our hello_world_list below has a value of 'hello')\n",
    "2. The element is at position #x\n",
    "\n",
    "For instance, the 0th position of hello_world_list has the word 'hello'. Let's take a look at this."
   ]
  },
  {
   "cell_type": "code",
   "execution_count": null,
   "metadata": {
    "ExecuteTime": {
     "end_time": "2018-03-26T22:52:54.500993Z",
     "start_time": "2018-03-26T22:52:54.492434Z"
    },
    "run_control": {
     "frozen": false,
     "read_only": false
    }
   },
   "outputs": [],
   "source": [
    "hello_world_list = ['hello','world']\n",
    "print(hello_world_list[0])\n",
    "print(hello_world_list[1])"
   ]
  },
  {
   "cell_type": "markdown",
   "metadata": {
    "run_control": {
     "frozen": false,
     "read_only": false
    }
   },
   "source": [
    "The square brackets directly after the list tell Python, \"Hey, I only want you to get the element at that position number in the list.\" Also, let's note something special: **the numbers start at 0!** All Python lists (and sets and tuples for that matter) start at position 0. This is sometimes called \"zero indexing.\""
   ]
  },
  {
   "cell_type": "markdown",
   "metadata": {
    "run_control": {
     "frozen": false,
     "read_only": false
    }
   },
   "source": [
    "**Exercise 2: **\n",
    "> Okay, so let's create a list with the values 1, 2, 3, 4, and 5 in it. Then let's use indexing to calculate the sum."
   ]
  },
  {
   "cell_type": "code",
   "execution_count": null,
   "metadata": {
    "ExecuteTime": {
     "end_time": "2018-03-26T22:52:58.530563Z",
     "start_time": "2018-03-26T22:52:58.525592Z"
    },
    "run_control": {
     "frozen": false,
     "read_only": false
    }
   },
   "outputs": [],
   "source": [
    "# Your solution here"
   ]
  },
  {
   "cell_type": "markdown",
   "metadata": {
    "run_control": {
     "frozen": false,
     "read_only": false
    }
   },
   "source": [
    "Alright! We can do some manipulations of our data with indexing. But, there's gotta be a better way of using all the elements in a list than manually typing each index in, right? There is, they're called `for` loops. Let's take a look at an example:"
   ]
  },
  {
   "cell_type": "code",
   "execution_count": null,
   "metadata": {
    "ExecuteTime": {
     "end_time": "2018-03-26T22:53:00.190542Z",
     "start_time": "2018-03-26T22:53:00.179729Z"
    },
    "run_control": {
     "frozen": false,
     "read_only": false
    }
   },
   "outputs": [],
   "source": [
    "values = [1,2,3,4,5]\n",
    "for element in values:\n",
    "    print(\"element:\", element)"
   ]
  },
  {
   "cell_type": "markdown",
   "metadata": {
    "run_control": {
     "frozen": false,
     "read_only": false
    }
   },
   "source": [
    "We told python, \"I want you to grab each element in the `values` list and then do something with it one at a time.\" There's nothing special about it being numbers, we could do that with a list of strings as well. All that Python knows is, \"This user said 'get everything in this list and give it back to me one at a time' and I'm going to do that now.\"\n",
    "\n",
    "We've also just seen our first Python indent! Did you notice that the `print()` statement is one tab in from the left side? That's how Python knows what belongs to the `for` loop and what doesn't. For instance, what if we added another print statement just below the `for` loop, but without the `tab`? Let's take a look."
   ]
  },
  {
   "cell_type": "code",
   "execution_count": null,
   "metadata": {
    "ExecuteTime": {
     "end_time": "2018-03-26T22:53:02.288509Z",
     "start_time": "2018-03-26T22:53:02.269330Z"
    },
    "run_control": {
     "frozen": false,
     "read_only": false
    }
   },
   "outputs": [],
   "source": [
    "values = [1,2,3,4,5]\n",
    "for element in values:\n",
    "    print(\"element:\", element)\n",
    "    print('alice')\n",
    "print('bob')"
   ]
  },
  {
   "cell_type": "markdown",
   "metadata": {
    "run_control": {
     "frozen": false,
     "read_only": false
    }
   },
   "source": [
    "So that's a big key to how Python structures it's code. Things that are inside another structure (like a `for` loop) are indented. All the indented parts for a single structure have to go together! You can't do this (which is why we get an error):"
   ]
  },
  {
   "cell_type": "code",
   "execution_count": null,
   "metadata": {
    "ExecuteTime": {
     "end_time": "2018-03-26T22:53:08.117477Z",
     "start_time": "2018-03-26T22:53:08.105418Z"
    },
    "run_control": {
     "frozen": false,
     "read_only": false
    }
   },
   "outputs": [],
   "source": [
    "x = 0\n",
    "for element in [1,2,3,4]:\n",
    "    print(\"element:\", element)\n",
    "print(x)\n",
    "    x = element\n",
    "    print(x)"
   ]
  },
  {
   "cell_type": "markdown",
   "metadata": {
    "run_control": {
     "frozen": false,
     "read_only": false
    }
   },
   "source": [
    "But you can do this:"
   ]
  },
  {
   "cell_type": "code",
   "execution_count": null,
   "metadata": {
    "ExecuteTime": {
     "end_time": "2018-03-26T22:53:13.383881Z",
     "start_time": "2018-03-26T22:53:13.364093Z"
    },
    "run_control": {
     "frozen": false,
     "read_only": false
    }
   },
   "outputs": [],
   "source": [
    "x = 0\n",
    "for element in [1,2,3,4]:\n",
    "    print(\"element:\", element)\n",
    "    print(\"x:\", x)\n",
    "    x = element\n",
    "print(\"x (at the end):\", x)"
   ]
  },
  {
   "cell_type": "markdown",
   "metadata": {
    "run_control": {
     "frozen": false,
     "read_only": false
    }
   },
   "source": [
    "**Exercise 3: ** \n",
    "> Use a `for` loop to compute the sum of `values`, where values is a list of all numbers 1 through 5."
   ]
  },
  {
   "cell_type": "code",
   "execution_count": null,
   "metadata": {
    "ExecuteTime": {
     "end_time": "2018-03-26T22:53:16.487109Z",
     "start_time": "2018-03-26T22:53:16.475388Z"
    },
    "run_control": {
     "frozen": false,
     "read_only": false
    }
   },
   "outputs": [],
   "source": [
    "# Hint:\n",
    "# First, initialize a variable \"sum\" and set it to 0\n",
    "\n",
    "# Then, loop through this each element in this list and update sum to be the prior sum,\n",
    "# plus the new element\n",
    "\n",
    "# print the sum"
   ]
  },
  {
   "cell_type": "markdown",
   "metadata": {},
   "source": [
    "### The `range` function:"
   ]
  },
  {
   "cell_type": "code",
   "execution_count": null,
   "metadata": {
    "ExecuteTime": {
     "end_time": "2018-03-26T22:53:18.451360Z",
     "start_time": "2018-03-26T22:53:18.431981Z"
    },
    "run_control": {
     "frozen": false,
     "read_only": false
    }
   },
   "outputs": [],
   "source": [
    "for x in range(5):\n",
    "    print(\"x:\", x)"
   ]
  },
  {
   "cell_type": "markdown",
   "metadata": {
    "run_control": {
     "frozen": false,
     "read_only": false
    }
   },
   "source": [
    "Now let's use this to create a nested `for` loop."
   ]
  },
  {
   "cell_type": "code",
   "execution_count": null,
   "metadata": {
    "ExecuteTime": {
     "end_time": "2018-03-26T22:53:20.903252Z",
     "start_time": "2018-03-26T22:53:20.880475Z"
    },
    "run_control": {
     "frozen": false,
     "read_only": false
    }
   },
   "outputs": [],
   "source": [
    "for i in range(5):\n",
    "    print(\"**Starting iteration of outer loop**\")\n",
    "    print(\"i =\",i)\n",
    "    for j in range(3):\n",
    "        print(\"j =\",j)"
   ]
  },
  {
   "cell_type": "markdown",
   "metadata": {
    "run_control": {
     "frozen": false,
     "read_only": false
    }
   },
   "source": [
    "The idea here is that the outer `for` loop only repeats when it gets to the bottom of its indented stuff. Since there's a `for` loop inside, it runs all the way through EVERYTIME for the outer `for`. We can see that for every `i` all the `j`'s get a chance to show up."
   ]
  },
  {
   "cell_type": "markdown",
   "metadata": {},
   "source": [
    "## Indexing and Slicing"
   ]
  },
  {
   "cell_type": "markdown",
   "metadata": {},
   "source": [
    "Lists' _ordering_ lets us select specific elements from them:"
   ]
  },
  {
   "cell_type": "markdown",
   "metadata": {},
   "source": [
    "**Specific elements**:"
   ]
  },
  {
   "cell_type": "code",
   "execution_count": null,
   "metadata": {
    "ExecuteTime": {
     "end_time": "2018-03-26T22:53:33.934957Z",
     "start_time": "2018-03-26T22:53:33.930565Z"
    }
   },
   "outputs": [],
   "source": [
    "a_list = ['a', 'b', 'c', 'd', 'e']"
   ]
  },
  {
   "cell_type": "code",
   "execution_count": null,
   "metadata": {
    "ExecuteTime": {
     "end_time": "2018-03-26T22:53:34.713746Z",
     "start_time": "2018-03-26T22:53:34.703932Z"
    }
   },
   "outputs": [],
   "source": [
    "# Second element\n",
    "print(\"a_list:\", a_list)\n",
    "print(\"Second element:\", a_list[1])"
   ]
  },
  {
   "cell_type": "markdown",
   "metadata": {},
   "source": [
    "**Slices**:"
   ]
  },
  {
   "cell_type": "markdown",
   "metadata": {},
   "source": [
    "To select the elements from element `start` to element `stop` _excluding `stop`_, use:\n",
    "\n",
    "> `a_list[start:stop]`"
   ]
  },
  {
   "cell_type": "code",
   "execution_count": null,
   "metadata": {
    "ExecuteTime": {
     "end_time": "2018-03-26T22:53:37.283080Z",
     "start_time": "2018-03-26T22:53:37.275017Z"
    }
   },
   "outputs": [],
   "source": [
    "print(\"a_list:\", a_list)\n",
    "# Slice illustration\n",
    "print(\"Element with index '1' to element with index '3' (exclusive):\", a_list[1:3])"
   ]
  },
  {
   "cell_type": "markdown",
   "metadata": {},
   "source": [
    "Python makes is easy to select everything from the beginning of a string to an element and vice versa:"
   ]
  },
  {
   "cell_type": "code",
   "execution_count": null,
   "metadata": {
    "ExecuteTime": {
     "end_time": "2018-03-26T22:54:38.943182Z",
     "start_time": "2018-03-26T22:54:38.932667Z"
    }
   },
   "outputs": [],
   "source": [
    "print(\"a_list:\", a_list)\n",
    "print()\n",
    "print(\"Beginning of list to element with index '2' (exclusive):\", a_list[:2])\n",
    "print()\n",
    "print(\"Element with index '2' to end of list:\", a_list[2:])"
   ]
  },
  {
   "cell_type": "markdown",
   "metadata": {},
   "source": [
    "Python also lets you step over elements as you're selecting with the following syntax:\n",
    "\n",
    "> `a_list[start:stop:step]`"
   ]
  },
  {
   "cell_type": "code",
   "execution_count": null,
   "metadata": {
    "ExecuteTime": {
     "end_time": "2018-03-26T22:55:36.475642Z",
     "start_time": "2018-03-26T22:55:36.467484Z"
    }
   },
   "outputs": [],
   "source": [
    "# Every second element starting with the second one\n",
    "print(\"a_list:\", a_list)\n",
    "print(\"Every second element starting with the second one\", a_list[1::2])"
   ]
  },
  {
   "cell_type": "markdown",
   "metadata": {},
   "source": [
    "** Exercise 4: **\n",
    "> Print a_list in reverse using bracket notation"
   ]
  },
  {
   "cell_type": "code",
   "execution_count": null,
   "metadata": {
    "ExecuteTime": {
     "end_time": "2018-03-26T22:55:37.864862Z",
     "start_time": "2018-03-26T22:55:37.860656Z"
    }
   },
   "outputs": [],
   "source": [
    "# Hint: what should the \"step size\" be?"
   ]
  },
  {
   "cell_type": "markdown",
   "metadata": {},
   "source": [
    "Sometimes you want to select an element at the end of a long list, but you don't know exactly how long the list is. Python provides a \"reverse indexing\" syntax that makes this easy:"
   ]
  },
  {
   "cell_type": "markdown",
   "metadata": {},
   "source": [
    "**Reverse indexing**"
   ]
  },
  {
   "cell_type": "code",
   "execution_count": null,
   "metadata": {
    "ExecuteTime": {
     "end_time": "2018-03-26T22:55:39.631727Z",
     "start_time": "2018-03-26T22:55:39.616943Z"
    }
   },
   "outputs": [],
   "source": [
    "print(\"Last element:\", a_list[-1])\n",
    "print(\"Second to last element:\", a_list[-2])\n",
    "print(\"Third to last element:\", a_list[-3])\n",
    "print(\"Fourth to last element:\", a_list[-4])\n",
    "print(\"Fifth to last element:\", a_list[-5])"
   ]
  },
  {
   "cell_type": "markdown",
   "metadata": {},
   "source": [
    "### Strings have a lot in common with lists!"
   ]
  },
  {
   "cell_type": "markdown",
   "metadata": {},
   "source": [
    "We mentioned earlier that everything in Python boils down to simple data types - such as numbers and characters - and simple data structures, such as lists. As an illustration of this: strings in Python are simply lists of characters, and all of the slicing operations we just learned for lists work on strings:"
   ]
  },
  {
   "cell_type": "code",
   "execution_count": null,
   "metadata": {
    "ExecuteTime": {
     "end_time": "2018-03-26T22:55:42.453509Z",
     "start_time": "2018-03-26T22:55:42.443086Z"
    }
   },
   "outputs": [],
   "source": [
    "a_string = 'abcde'\n",
    "print(\"First two characters:\", a_string[:2])\n",
    "print(\"Third character:\", a_string[2])\n",
    "print(\"Second to last character:\", a_string[-2])"
   ]
  },
  {
   "cell_type": "markdown",
   "metadata": {},
   "source": [
    "** Exercise 5: **\n",
    "> Given the string below, print out \"rock\""
   ]
  },
  {
   "cell_type": "code",
   "execution_count": null,
   "metadata": {
    "ExecuteTime": {
     "end_time": "2018-03-26T22:55:46.056752Z",
     "start_time": "2018-03-26T22:55:46.050231Z"
    }
   },
   "outputs": [],
   "source": [
    "string1 = \"Blackrock\""
   ]
  },
  {
   "cell_type": "markdown",
   "metadata": {
    "run_control": {
     "frozen": false,
     "read_only": false
    }
   },
   "source": [
    "Python has many helpful built-in functions . One of them is the length (`len()`) function. Let's see an example:"
   ]
  },
  {
   "cell_type": "code",
   "execution_count": null,
   "metadata": {
    "ExecuteTime": {
     "end_time": "2018-03-26T22:55:47.914372Z",
     "start_time": "2018-03-26T22:55:47.901828Z"
    },
    "run_control": {
     "frozen": false,
     "read_only": false
    }
   },
   "outputs": [],
   "source": [
    "print(len([1,3,4,7]))"
   ]
  },
  {
   "cell_type": "markdown",
   "metadata": {},
   "source": [
    "**Exercise 6: **\n",
    "\n",
    "Find the length of the string below. Store it in a variable. Then find the remainder when this length is divided by 17."
   ]
  },
  {
   "cell_type": "code",
   "execution_count": null,
   "metadata": {
    "ExecuteTime": {
     "end_time": "2018-03-26T22:55:53.332123Z",
     "start_time": "2018-03-26T22:55:53.326611Z"
    }
   },
   "outputs": [],
   "source": [
    "string2 = \"How much wood could a woodchuck chuck if a woodchuck could chuch wood?\"\n",
    "# Your code here\n"
   ]
  },
  {
   "cell_type": "markdown",
   "metadata": {
    "run_control": {
     "frozen": false,
     "read_only": false
    }
   },
   "source": [
    "## Dictionaries - A complement to lists"
   ]
  },
  {
   "cell_type": "markdown",
   "metadata": {},
   "source": [
    "Lists are an ideal data structure when you have an ordered collection of objects.\n",
    "\n",
    "Dictionaries are an ideal data structure for creating a \"lookup\". For example, if we wanted to associate the area codes shown earlier with the cities they are associated with, a dictionary would be the thing to use. Here's how we'd do it:"
   ]
  },
  {
   "cell_type": "code",
   "execution_count": null,
   "metadata": {
    "ExecuteTime": {
     "end_time": "2018-03-26T22:55:57.978857Z",
     "start_time": "2018-03-26T22:55:57.971200Z"
    }
   },
   "outputs": [],
   "source": [
    "cities = {'Pittsburgh': 412, 'Chicago': 312, 'San Francisco': 415}\n",
    "print(\"Type of 'cities':\", type(cities))"
   ]
  },
  {
   "cell_type": "markdown",
   "metadata": {},
   "source": [
    "What does this data structure allow us to do. It allows us to look things up quickly, just like we'd do in a dictionary:"
   ]
  },
  {
   "cell_type": "code",
   "execution_count": null,
   "metadata": {
    "ExecuteTime": {
     "end_time": "2018-03-26T22:56:00.040280Z",
     "start_time": "2018-03-26T22:56:00.032467Z"
    }
   },
   "outputs": [],
   "source": [
    "print(\"Looking up 'Pittsburgh' in 'cities':\", cities['Pittsburgh'])"
   ]
  },
  {
   "cell_type": "markdown",
   "metadata": {},
   "source": [
    "Notice that unlike with lists, the following will _not_ work: "
   ]
  },
  {
   "cell_type": "code",
   "execution_count": null,
   "metadata": {
    "ExecuteTime": {
     "end_time": "2018-03-26T22:56:04.169709Z",
     "start_time": "2018-03-26T22:56:04.155082Z"
    }
   },
   "outputs": [],
   "source": [
    "cities[0]"
   ]
  },
  {
   "cell_type": "markdown",
   "metadata": {},
   "source": [
    "That is because dictionaries are _not_ ordered, unlike lists - there is no \"first element\" of a dictionary."
   ]
  },
  {
   "cell_type": "markdown",
   "metadata": {},
   "source": [
    "Some terminology: \n",
    "* The elements `'Pittsburgh'`, `'Chicago`', and `'San Francisco`' are called the **keys** of the dictionary\n",
    "* The values `412`, `312`, and `415` are called the **values** of the dictionary."
   ]
  },
  {
   "cell_type": "markdown",
   "metadata": {},
   "source": [
    "Dictionaries can also quickly tell us if an element is \"in\" the dictionary:"
   ]
  },
  {
   "cell_type": "code",
   "execution_count": null,
   "metadata": {
    "ExecuteTime": {
     "end_time": "2018-03-26T22:56:06.621890Z",
     "start_time": "2018-03-26T22:56:06.613751Z"
    }
   },
   "outputs": [],
   "source": [
    "print(\"'Pittsburgh' in 'cities':\", 'Pittsburgh' in cities)\n",
    "print(\"'London' in 'cities':\", 'London' in cities)"
   ]
  },
  {
   "cell_type": "markdown",
   "metadata": {},
   "source": [
    "Note that this does _not_ work for values:"
   ]
  },
  {
   "cell_type": "code",
   "execution_count": null,
   "metadata": {
    "ExecuteTime": {
     "end_time": "2018-03-26T22:56:08.362973Z",
     "start_time": "2018-03-26T22:56:08.352865Z"
    }
   },
   "outputs": [],
   "source": [
    "print(\"412 in 'cities':\", 412 in cities)"
   ]
  },
  {
   "cell_type": "markdown",
   "metadata": {},
   "source": [
    "Despite the fact that dictionaries are not ordered, we can iterate through either the keys or the values, which is very handy:"
   ]
  },
  {
   "cell_type": "code",
   "execution_count": null,
   "metadata": {
    "ExecuteTime": {
     "end_time": "2018-03-26T22:56:09.797177Z",
     "start_time": "2018-03-26T22:56:09.780060Z"
    }
   },
   "outputs": [],
   "source": [
    "print(\"Iterating through the keys:\")\n",
    "for key in cities.keys():\n",
    "    print(\"'cities' key:\", key)\n",
    "print()\n",
    "print(\"Iterating through the values:\")\n",
    "for value in cities.values():\n",
    "    print(\"'cities' value:\", value)"
   ]
  },
  {
   "cell_type": "markdown",
   "metadata": {},
   "source": [
    "We can also use the handy `.items()` function to iterate through the keys and the values at the same time."
   ]
  },
  {
   "cell_type": "code",
   "execution_count": null,
   "metadata": {
    "ExecuteTime": {
     "end_time": "2018-03-26T22:56:11.633243Z",
     "start_time": "2018-03-26T22:56:11.617813Z"
    }
   },
   "outputs": [],
   "source": [
    "for key, value in cities.items():\n",
    "    print(\"'cities' key:\", key)\n",
    "    print(\"'cities' value:\", value)"
   ]
  },
  {
   "cell_type": "markdown",
   "metadata": {
    "run_control": {
     "frozen": false,
     "read_only": false
    }
   },
   "source": [
    "Dictionaries can also have sub-dictionaries. For instance, let's look at how we might store information about some baseball players."
   ]
  },
  {
   "cell_type": "code",
   "execution_count": null,
   "metadata": {
    "ExecuteTime": {
     "end_time": "2018-03-26T22:56:12.974472Z",
     "start_time": "2018-03-26T22:56:12.964534Z"
    },
    "run_control": {
     "frozen": false,
     "read_only": false
    }
   },
   "outputs": [],
   "source": [
    "# Let's assume a format like [Team, Games, Plate Apperance, Home Runs]\n",
    "career_stats = {'babe_ruth': {1914: [\"Red Sox\",5,10,0], 1915:['Red Sox', 43, 104, 4]},\n",
    "                'gavvy_cravath': {1914: ['Phillies',149,604,14]}} # Yes, that's a real baseball player's name\n",
    "print(\"career_stats['babe_ruth'] =\", career_stats['babe_ruth'])"
   ]
  },
  {
   "cell_type": "code",
   "execution_count": null,
   "metadata": {
    "ExecuteTime": {
     "end_time": "2018-03-26T22:56:14.695410Z",
     "start_time": "2018-03-26T22:56:14.688800Z"
    },
    "run_control": {
     "frozen": false,
     "read_only": false
    }
   },
   "outputs": [],
   "source": [
    "print(\"career_stats['gavvy_cravath'][1914] =\", career_stats['gavvy_cravath'][1914])"
   ]
  },
  {
   "cell_type": "markdown",
   "metadata": {},
   "source": [
    "### More quick notes on dictionaries"
   ]
  },
  {
   "cell_type": "markdown",
   "metadata": {},
   "source": [
    "Dictionaries can have numbers as keys. For example:"
   ]
  },
  {
   "cell_type": "code",
   "execution_count": null,
   "metadata": {
    "ExecuteTime": {
     "end_time": "2018-03-26T22:56:18.203761Z",
     "start_time": "2018-03-26T22:56:18.198638Z"
    }
   },
   "outputs": [],
   "source": [
    "area_codes = {412: 'Pittsburgh', 312: 'Chicago', 415: 'San Francisco'}"
   ]
  },
  {
   "cell_type": "markdown",
   "metadata": {},
   "source": [
    "**Exercise 7:**\n",
    "\n",
    "Make a dictionary with at least two keys with the country name as a _key_ and the capital of the country as a _value_.\n",
    "\n",
    "**Bonus:** Make a dictionary with country names as keys, and as values, _another_ dictionary containing:\n",
    "* \"Continent\" and \"Capital\" as keys\n",
    "* The country's continent and capital, respectively, as values"
   ]
  },
  {
   "cell_type": "markdown",
   "metadata": {
    "run_control": {
     "frozen": false,
     "read_only": false
    }
   },
   "source": [
    "## If statements - making decisions with variables"
   ]
  },
  {
   "cell_type": "markdown",
   "metadata": {
    "run_control": {
     "frozen": false,
     "read_only": false
    }
   },
   "source": [
    "If statements are a ubiquitous part of pretty much all programming languages. We often want to treat things differently based on whether a value is big or small, true or false, etc. So let's see how this works in Python."
   ]
  },
  {
   "cell_type": "code",
   "execution_count": null,
   "metadata": {
    "ExecuteTime": {
     "end_time": "2018-03-26T22:56:37.817325Z",
     "start_time": "2018-03-26T22:56:37.809485Z"
    },
    "run_control": {
     "frozen": false,
     "read_only": false
    }
   },
   "outputs": [],
   "source": [
    "do_you_like_coffee = False\n",
    "\n",
    "if do_you_like_coffee: # This by default is asking if it's true. The same as: `if do_you_like_coffee == True`\n",
    "    print(\"I'm sorry you make bad choices.\")\n",
    "else:\n",
    "    print(\"Fight the coffee-archy, comrade.\")"
   ]
  },
  {
   "cell_type": "markdown",
   "metadata": {
    "run_control": {
     "frozen": false,
     "read_only": false
    }
   },
   "source": [
    "If statements can also work with numbers by checking for greater than, less than, equal to, etc. Let's see."
   ]
  },
  {
   "cell_type": "code",
   "execution_count": null,
   "metadata": {
    "ExecuteTime": {
     "end_time": "2018-03-26T22:57:07.300203Z",
     "start_time": "2018-03-26T22:57:07.276770Z"
    },
    "run_control": {
     "frozen": false,
     "read_only": false
    }
   },
   "outputs": [],
   "source": [
    "if 4 > 2.33:\n",
    "    print(\"Math works\")\n",
    "else:\n",
    "    print(\"WHAT HAVE WE DONE\")"
   ]
  },
  {
   "cell_type": "markdown",
   "metadata": {},
   "source": [
    "If we want to test multiple mutually exclusive conditions, we can use the `elif` keyword (short for \"else if\"):"
   ]
  },
  {
   "cell_type": "code",
   "execution_count": null,
   "metadata": {
    "ExecuteTime": {
     "end_time": "2018-03-26T22:57:09.227266Z",
     "start_time": "2018-03-26T22:57:09.199951Z"
    },
    "run_control": {
     "frozen": false,
     "read_only": false
    }
   },
   "outputs": [],
   "source": [
    "x = 7.5\n",
    "print(\"x == 8.0:\", x == 8.0)\n",
    "print(\"x > 7.7:\", x > 7.7)\n",
    "print(\"x > 7.0:\", x > 7.0)\n",
    "print(\"x <= 7.0:\", x <= 7.0)\n",
    "if x == 8.0: # we use two equals for comparison, since one equals tells python to set x to that value\n",
    "    print(\"First true condition: x = 8.0\")\n",
    "elif x > 7.7: # this is an else-if statement. It allows us to do multiple checks in one if setup\n",
    "    print(\"First true condition: x > 7.7\")\n",
    "elif x > 7.0:\n",
    "    print(\"First true condition: x > 7.0\")\n",
    "else:\n",
    "    print(\"First true condition: x <= 7.0\")"
   ]
  },
  {
   "cell_type": "markdown",
   "metadata": {
    "run_control": {
     "frozen": false,
     "read_only": false
    }
   },
   "source": [
    "We can also do type checking with if statements. For instance, we want to throw an error if we try to add 2 to a string. Let's try that:"
   ]
  },
  {
   "cell_type": "code",
   "execution_count": null,
   "metadata": {
    "ExecuteTime": {
     "end_time": "2018-03-26T22:57:11.091171Z",
     "start_time": "2018-03-26T22:57:11.079970Z"
    },
    "run_control": {
     "frozen": false,
     "read_only": false
    }
   },
   "outputs": [],
   "source": [
    "user_input = 'bob'\n",
    "\n",
    "if type(user_input) == type(1) or type(user_input) == type(1.5):\n",
    "    print(user_input+2)\n",
    "else:\n",
    "    print(\"ERROR: NOT AN INTEGER OR FLOAT\")"
   ]
  },
  {
   "cell_type": "markdown",
   "metadata": {
    "run_control": {
     "frozen": false,
     "read_only": false
    }
   },
   "source": [
    "If statements are super handy... but luckily for us there isn't much more to them. It's always asking true-false questions, then modifying the code's behavior based on that answer. We can chain together things with `and` and `or` as shown above; but the logic side of how and when `and's` and `or's` should be used is best saved for another time. "
   ]
  },
  {
   "cell_type": "markdown",
   "metadata": {
    "run_control": {
     "frozen": false,
     "read_only": false
    }
   },
   "source": [
    "# Functions"
   ]
  },
  {
   "cell_type": "markdown",
   "metadata": {},
   "source": [
    "Functions are an absolutely essential part of programming well. You can almost always tell the maturity of a programmer by the way they use functions. Functions:\n",
    "\n",
    "* Make your code more readable\n",
    "* Allow you to avoid repetition\n",
    "* Make your code more flexible"
   ]
  },
  {
   "cell_type": "markdown",
   "metadata": {},
   "source": [
    "Let's say that as part of an app calculating employee salaries, we have to multiply their salaries by the number of weeks worked in the year and then take out taxes."
   ]
  },
  {
   "cell_type": "markdown",
   "metadata": {},
   "source": [
    "You know that employee A made $1,000/week. Assuming he works 48 weeks/year and is taxed at 15%, you calculate his salary as:"
   ]
  },
  {
   "cell_type": "code",
   "execution_count": null,
   "metadata": {
    "ExecuteTime": {
     "end_time": "2018-03-26T22:57:16.442509Z",
     "start_time": "2018-03-26T22:57:16.432809Z"
    }
   },
   "outputs": [],
   "source": [
    "salary_a = 1000\n",
    "print(\"Employee A's salary:\", 48 * salary_a * (1-0.15))"
   ]
  },
  {
   "cell_type": "markdown",
   "metadata": {},
   "source": [
    "Now let's say that employee B made $1,500/week. You could calculate her salary as:"
   ]
  },
  {
   "cell_type": "code",
   "execution_count": null,
   "metadata": {
    "ExecuteTime": {
     "end_time": "2018-03-26T22:57:18.458394Z",
     "start_time": "2018-03-26T22:57:18.446570Z"
    }
   },
   "outputs": [],
   "source": [
    "salary_b = 1500\n",
    "print(\"Employee B's salary:\", 48 * salary_b * (1-0.15)) "
   ]
  },
  {
   "cell_type": "markdown",
   "metadata": {},
   "source": [
    "Clearly there is some repetition of code going on here. How can we avoid this repetition with a function?"
   ]
  },
  {
   "cell_type": "markdown",
   "metadata": {},
   "source": [
    "The answer is that we can write a function as follows:"
   ]
  },
  {
   "cell_type": "code",
   "execution_count": null,
   "metadata": {
    "ExecuteTime": {
     "end_time": "2018-03-26T22:57:21.221943Z",
     "start_time": "2018-03-26T22:57:21.215978Z"
    }
   },
   "outputs": [],
   "source": [
    "def yearly_employee_salary(salary):\n",
    "    return 48 * salary * (1-0.15)"
   ]
  },
  {
   "cell_type": "markdown",
   "metadata": {},
   "source": [
    "Let's unpack what just happened: \n",
    "\n",
    "* We've defined a function using the syntax `def NAME_OF_FUNCTION()`.\n",
    "* We specified the body of the function using indentation.\n",
    "* We ended the function - specifying what should get `return`ed to the program as an output - with the very important Python keyword `return`."
   ]
  },
  {
   "cell_type": "code",
   "execution_count": null,
   "metadata": {
    "ExecuteTime": {
     "end_time": "2018-03-26T22:57:22.998388Z",
     "start_time": "2018-03-26T22:57:22.989415Z"
    }
   },
   "outputs": [],
   "source": [
    "print(\"Employee A's salary:\", yearly_employee_salary(1000))\n",
    "print(\"Employee B's salary:\", yearly_employee_salary(1500))"
   ]
  },
  {
   "cell_type": "markdown",
   "metadata": {},
   "source": [
    "Our code is now significantly more readable.\n",
    "\n",
    "You may object: we didn't actually avoid much repetition or save many lines of code! That's true: in this case, `yearly_employee_salary` was just a one line calculation. However, we have made our code much more _flexible_. How so? Let's say we wanted to change the number of hours worked from 48 to 46 (perhaps because we went from having four weeks of vacation per year to having six hours). We can simply make this change in _one_ place and have it apply to _all_ employee salaries!"
   ]
  },
  {
   "cell_type": "code",
   "execution_count": null,
   "metadata": {
    "ExecuteTime": {
     "end_time": "2018-03-26T22:57:24.747282Z",
     "start_time": "2018-03-26T22:57:24.735821Z"
    }
   },
   "outputs": [],
   "source": [
    "def yearly_employee_salary(salary):\n",
    "    return 46 * salary * (1-0.15) # changed from 48\n",
    "\n",
    "print(\"Employee A's salary:\", yearly_employee_salary(1000))\n",
    "print(\"Employee B's salary:\", yearly_employee_salary(1500))"
   ]
  },
  {
   "cell_type": "markdown",
   "metadata": {},
   "source": [
    "Thus, out code is significantly more flexible: we can make a change to one number and the change can affect the way the rest of our code operates."
   ]
  },
  {
   "cell_type": "markdown",
   "metadata": {},
   "source": [
    "There are other benefits to functions that we'll get into later."
   ]
  },
  {
   "cell_type": "markdown",
   "metadata": {},
   "source": [
    "An important note on functions and namespaces: variables manipulated inside functions _only_ affect what happens in those functions. Take the example below:"
   ]
  },
  {
   "cell_type": "code",
   "execution_count": null,
   "metadata": {
    "ExecuteTime": {
     "end_time": "2018-03-26T22:57:28.577485Z",
     "start_time": "2018-03-26T22:57:28.558681Z"
    }
   },
   "outputs": [],
   "source": [
    "x = 0\n",
    "print(\"Outside the function, x = \", x)\n",
    "print()\n",
    "def square(x):\n",
    "    print(\"Inside the function, x =\", x)\n",
    "    return x*x\n",
    "\n",
    "x2 = square(2)\n",
    "print()\n",
    "print(\"Back outside the function, x = \", x)\n",
    "print()\n",
    "print(\"Result of running 'square` with x = 2:\", x2)"
   ]
  },
  {
   "cell_type": "markdown",
   "metadata": {},
   "source": [
    "Notice that running this function has _not_ affected the \"global\" (outside the function) value of `x`."
   ]
  },
  {
   "cell_type": "markdown",
   "metadata": {
    "run_control": {
     "frozen": false,
     "read_only": false
    }
   },
   "source": [
    "Some more notes on functions: they must be used with the variables they are expecting. By specifying the function with an `(x)`, if we try to call the function without a value, it will error (see below). "
   ]
  },
  {
   "cell_type": "code",
   "execution_count": null,
   "metadata": {
    "ExecuteTime": {
     "end_time": "2018-03-26T22:57:31.463087Z",
     "start_time": "2018-03-26T22:57:31.404114Z"
    },
    "run_control": {
     "frozen": false,
     "read_only": false
    },
    "scrolled": true
   },
   "outputs": [],
   "source": [
    "square()"
   ]
  },
  {
   "cell_type": "markdown",
   "metadata": {
    "run_control": {
     "frozen": false,
     "read_only": false
    }
   },
   "source": [
    "Also, notice that Python continues to use indentation as a marker for being inside a function. We also have a `return` which means that we can send information back to the main code. Let's look at what happens when I call print inside the function and don't have a return."
   ]
  },
  {
   "cell_type": "code",
   "execution_count": null,
   "metadata": {
    "ExecuteTime": {
     "end_time": "2018-03-26T22:57:33.296706Z",
     "start_time": "2018-03-26T22:57:33.286528Z"
    },
    "run_control": {
     "frozen": false,
     "read_only": false
    }
   },
   "outputs": [],
   "source": [
    "def square_then_print(x):\n",
    "    y = x*x\n",
    "    print(\"y (inside function):\", y)\n",
    "    \n",
    "print(\"square_then_print(4):\", square_then_print(4))"
   ]
  },
  {
   "cell_type": "markdown",
   "metadata": {},
   "source": [
    "What if we try to capture the return of a function without a return? No big deal."
   ]
  },
  {
   "cell_type": "code",
   "execution_count": null,
   "metadata": {
    "ExecuteTime": {
     "end_time": "2018-03-26T22:57:35.285358Z",
     "start_time": "2018-03-26T22:57:35.277630Z"
    }
   },
   "outputs": [],
   "source": [
    "value = square_then_print(4)\n",
    "print(\"value:\", value)"
   ]
  },
  {
   "cell_type": "markdown",
   "metadata": {
    "run_control": {
     "frozen": false,
     "read_only": false
    }
   },
   "source": [
    "So it's also possible to not have a return in Python. Can we send variables to functions? Yep."
   ]
  },
  {
   "cell_type": "code",
   "execution_count": null,
   "metadata": {
    "ExecuteTime": {
     "end_time": "2018-03-26T22:57:36.827310Z",
     "start_time": "2018-03-26T22:57:36.817851Z"
    },
    "run_control": {
     "frozen": false,
     "read_only": false
    }
   },
   "outputs": [],
   "source": [
    "def add_one_to_var(x):\n",
    "    x += 1\n",
    "    return x\n",
    "\n",
    "z = 0\n",
    "z_plus_one = add_one_to_var(z)\n",
    "print(\"z_plus_one:\", z_plus_one)"
   ]
  },
  {
   "cell_type": "markdown",
   "metadata": {
    "run_control": {
     "frozen": false,
     "read_only": false
    }
   },
   "source": [
    "**Exercise 8:**\n",
    "\n",
    "> Write a function that takes in a number and returns the number cubed plus 7."
   ]
  },
  {
   "cell_type": "code",
   "execution_count": null,
   "metadata": {
    "run_control": {
     "frozen": false,
     "read_only": false
    }
   },
   "outputs": [],
   "source": []
  },
  {
   "cell_type": "markdown",
   "metadata": {
    "run_control": {
     "frozen": false,
     "read_only": false
    }
   },
   "source": [
    "What about lists, can we send lists to functions? Absolutely."
   ]
  },
  {
   "cell_type": "code",
   "execution_count": null,
   "metadata": {
    "ExecuteTime": {
     "end_time": "2018-03-26T22:57:39.537427Z",
     "start_time": "2018-03-26T22:57:39.527380Z"
    },
    "run_control": {
     "frozen": false,
     "read_only": false
    }
   },
   "outputs": [],
   "source": [
    "def print_list(li):\n",
    "    for el in li:\n",
    "        print(el)\n",
    "        \n",
    "print_list([1,2,3,4])"
   ]
  },
  {
   "cell_type": "markdown",
   "metadata": {
    "run_control": {
     "frozen": false,
     "read_only": false
    }
   },
   "source": [
    "**Exercise 9:**\n",
    "\n",
    "> Write a function that takes a list and computes the sum of all the elements"
   ]
  },
  {
   "cell_type": "code",
   "execution_count": null,
   "metadata": {
    "run_control": {
     "frozen": false,
     "read_only": false
    }
   },
   "outputs": [],
   "source": []
  },
  {
   "cell_type": "markdown",
   "metadata": {
    "run_control": {
     "frozen": false,
     "read_only": false
    }
   },
   "source": [
    "As a sidenote, Python actually has a really handy built-in function that computes the sum of a list really quickly. You might see it around. It goes like this:"
   ]
  },
  {
   "cell_type": "code",
   "execution_count": null,
   "metadata": {
    "ExecuteTime": {
     "end_time": "2018-03-26T22:57:42.123241Z",
     "start_time": "2018-03-26T22:57:42.113568Z"
    },
    "run_control": {
     "frozen": false,
     "read_only": false
    }
   },
   "outputs": [],
   "source": [
    "values = [1,2,3,4,5]\n",
    "print(sum(values))"
   ]
  },
  {
   "cell_type": "markdown",
   "metadata": {
    "run_control": {
     "frozen": false,
     "read_only": false
    }
   },
   "source": [
    "## Key Take-Aways about Functions\n",
    "\n",
    "Functions are a HUGE part of programming well. There are some key things to remember about functions:\n",
    "\n",
    "* If you are ever re-using code, put it into a function. Functions are there so you shouldn't ever copy-paste code. It's good code design to use functions.\n",
    "* Name your functions well! `function2()` is not easy to understand, a function called `sum_of_list()` is!\n",
    "* Use your arguments and keyword arguments (Kwargs) well (arguments are the things inside the parenthesis, Kwargs are in the parenthesis but with default values). If you need to have arguments, name your arguments well. Good variable naming is VITAL for bigger projects."
   ]
  },
  {
   "cell_type": "markdown",
   "metadata": {},
   "source": [
    "Indeed, in well-designed coding projects, all the \"details\" should be hidden away in discrete, properly-named functions. For example, if in theory we were writing code to bake a pizza, it should look simply like this:"
   ]
  },
  {
   "cell_type": "markdown",
   "metadata": {},
   "source": [
    "```python \n",
    "def make_pizza(dough, cheese, sauce):\n",
    "   \n",
    "    rolled_dough = roll_dough(dough)\n",
    "    \n",
    "    prepped_pizza = prepare_for_baking(rolled_dough, cheese, sauce)\n",
    "    \n",
    "    baked_pizza = put_in_oven(prepped_pizza, time=150)\n",
    "    \n",
    "    return baked_pizza\n",
    "```"
   ]
  },
  {
   "cell_type": "markdown",
   "metadata": {},
   "source": [
    "Your `for` loops, `if` statements, and other low level operations should be hidden inside functions like `roll_dough`, `prepare_for_baking`, and so on. That way, even if these lower level functions themselves have 50-100 lines of code, someone can still read your code and get an idea of what is going on at a \"high level\"."
   ]
  },
  {
   "cell_type": "markdown",
   "metadata": {},
   "source": [
    "Whether you an experienced coder or not, you can help your team out by helping think through how to break down complicated tasks into simpler, discrete components, which is a big part of why we write functions and what makes good code good."
   ]
  },
  {
   "cell_type": "markdown",
   "metadata": {},
   "source": [
    "# External libraries"
   ]
  },
  {
   "cell_type": "markdown",
   "metadata": {},
   "source": [
    "The true power of Python comes from extensive external libraries that have been built for it, especially in the areas of numerical computing and data visualization, both of which are essential for data science.\n",
    "\n",
    "Let's look at an example involving a few of these external libraries, such as:\n",
    "\n",
    "* [`numpy`](http://www.numpy.org): a library that lets us easily and quickly do operations on vectors, which are similar to lists but with additional functionality for mathematical operations.\n",
    "* [`ipywidgets`](http://ipywidgets.readthedocs.io/en/latest/): which lets us make interactive visualizations inside Jupyter Notebooks.\n",
    "* [`matplotlib`](https://matplotlib.org): an extensive Python-based plotting library. Look at the [extensive gallery](https://matplotlib.org/gallery/index.html) of visualizations you can make with Matplotlib!"
   ]
  },
  {
   "cell_type": "markdown",
   "metadata": {},
   "source": [
    "### Plotting different normal distributions"
   ]
  },
  {
   "cell_type": "markdown",
   "metadata": {},
   "source": [
    "We \"import\" external libraries using the keyword `import`."
   ]
  },
  {
   "cell_type": "code",
   "execution_count": null,
   "metadata": {
    "ExecuteTime": {
     "end_time": "2018-03-26T22:57:51.227227Z",
     "start_time": "2018-03-26T22:57:51.223560Z"
    }
   },
   "outputs": [],
   "source": [
    "import numpy as np"
   ]
  },
  {
   "cell_type": "code",
   "execution_count": null,
   "metadata": {
    "ExecuteTime": {
     "end_time": "2018-03-26T22:58:57.684419Z",
     "start_time": "2018-03-26T22:58:57.669546Z"
    }
   },
   "outputs": [],
   "source": [
    "import matplotlib.pyplot as plt"
   ]
  },
  {
   "cell_type": "markdown",
   "metadata": {},
   "source": [
    "We can also import specific functions from libraries using this syntax:"
   ]
  },
  {
   "cell_type": "code",
   "execution_count": null,
   "metadata": {
    "ExecuteTime": {
     "end_time": "2018-03-26T22:57:52.451755Z",
     "start_time": "2018-03-26T22:57:52.446811Z"
    }
   },
   "outputs": [],
   "source": [
    "from ipywidgets import interactive"
   ]
  },
  {
   "cell_type": "code",
   "execution_count": null,
   "metadata": {
    "ExecuteTime": {
     "end_time": "2018-03-26T22:57:53.012621Z",
     "start_time": "2018-03-26T22:57:52.990686Z"
    }
   },
   "outputs": [],
   "source": [
    "# Generate 50 data points from -2 to 2\n",
    "N_samples = 100\n",
    "x=np.linspace(-5,5,N_samples)"
   ]
  },
  {
   "cell_type": "code",
   "execution_count": null,
   "metadata": {
    "ExecuteTime": {
     "end_time": "2018-03-26T22:57:53.697178Z",
     "start_time": "2018-03-26T22:57:53.690287Z"
    }
   },
   "outputs": [],
   "source": [
    "def draw_normal(sd):\n",
    "    '''\n",
    "    Generates data from a normal distribution with a standard deviation specified by the function.\n",
    "    '''\n",
    "    return np.exp(-(x)**2/(2*sd**2))"
   ]
  },
  {
   "cell_type": "code",
   "execution_count": null,
   "metadata": {
    "ExecuteTime": {
     "end_time": "2018-03-26T22:57:54.965769Z",
     "start_time": "2018-03-26T22:57:54.922039Z"
    }
   },
   "outputs": [],
   "source": [
    "def func(curve_sd_1, \n",
    "         curve_sd_2,\n",
    "         curve_sd_3):\n",
    "    '''\n",
    "    Given standard deviations, draws three normal distributions with standard deviations equal to the three inputs.\n",
    "    '''\n",
    "    \n",
    "    # Generate curve\n",
    "    curve_1 = draw_normal(curve_sd_1)\n",
    "    curve_2 = draw_normal(curve_sd_2)\n",
    "    curve_3 = draw_normal(curve_sd_3)\n",
    "\n",
    "    # Plotting code from the Matplotlib library: https://matplotlib.org\n",
    "    plt.figure(figsize=(8,5))\n",
    "    plt.plot(x, curve_1, c='k', lw=3)\n",
    "    plt.plot(x, curve_2, c='r', lw=3)\n",
    "    plt.plot(x, curve_3, c='b', lw=3)\n",
    "    plt.legend(['Standard_deviation:' + str(curve_sd_1), \n",
    "                'Standard_deviation:' + str(curve_sd_2), \n",
    "                'Standard_deviation:' + str(curve_sd_3)])\n",
    "    plt.grid(True)\n",
    "    plt.show()\n",
    "\n",
    "    return curve_1"
   ]
  },
  {
   "cell_type": "code",
   "execution_count": null,
   "metadata": {
    "ExecuteTime": {
     "end_time": "2018-03-26T22:59:04.738392Z",
     "start_time": "2018-03-26T22:59:02.955373Z"
    },
    "scrolled": false
   },
   "outputs": [],
   "source": [
    "y = interactive(func,\n",
    "                curve_sd_1=(0.5,3.5,0.1),\n",
    "                curve_sd_2=(0.5,3.5,0.1),\n",
    "                curve_sd_3=(0.5,3.5,0.1))\n",
    "\n",
    "display(y)"
   ]
  },
  {
   "cell_type": "markdown",
   "metadata": {},
   "source": [
    "# Exercise: guessing game\n",
    "\n",
    "Our last exercise will be to put everything we've learned together with a couple new ingredients to build a miniature application.\n",
    "\n",
    "The application will run a guessing game. The game will have a random number from 0 to 100 in its head that the player will try to guess. The player gets 10 guesses until the game is over. To make things easier on the player, the game will let the player know if they've guessed too high or too low when they get the answer wrong.\n",
    "\n",
    "## Use functions to plan your program\n",
    "\n",
    "Maybe this seems difficult at first. That's okay! The way to approach a problem like this is to break it down into chuncks that seem manageable and then make a function for each chunk.\n",
    "\n",
    "First thing we'll do is use `import random` to generate the random numbers with `random.randint(low,high)`"
   ]
  },
  {
   "cell_type": "code",
   "execution_count": null,
   "metadata": {
    "ExecuteTime": {
     "end_time": "2018-03-26T23:24:58.125054Z",
     "start_time": "2018-03-26T23:24:58.118616Z"
    }
   },
   "outputs": [],
   "source": [
    "import random\n"
   ]
  },
  {
   "cell_type": "markdown",
   "metadata": {},
   "source": [
    "## Step one\n",
    "\n",
    "Our first step is to build a function that has two inputs, a guess and a target, and returns True if the guess is correct and False if not. We will also have the function print the feedback telling the user if they've guessed too high, too low or just right."
   ]
  },
  {
   "cell_type": "code",
   "execution_count": null,
   "metadata": {
    "ExecuteTime": {
     "end_time": "2018-03-26T23:09:17.682867Z",
     "start_time": "2018-03-26T23:09:17.675592Z"
    }
   },
   "outputs": [],
   "source": [
    "# remember, this function should\n",
    "#  1 return True if the player guessed right and False if not\n",
    "#  2 print the helpful hints\n",
    "\n",
    "def test_guess(user_guess, secret_number):\n",
    "    pass # we can use this so that code doesn't throw an error even if we haven't written anything\n",
    "    "
   ]
  },
  {
   "cell_type": "code",
   "execution_count": null,
   "metadata": {},
   "outputs": [],
   "source": []
  },
  {
   "cell_type": "markdown",
   "metadata": {},
   "source": [
    "## Step two\n",
    "\n",
    "Now, let's look at a new function, `input()`. We can use it to get user input"
   ]
  },
  {
   "cell_type": "code",
   "execution_count": null,
   "metadata": {
    "ExecuteTime": {
     "end_time": "2018-03-26T23:11:26.021236Z",
     "start_time": "2018-03-26T23:11:23.033525Z"
    }
   },
   "outputs": [],
   "source": [
    "user_input = input()\n",
    "print(\"you typed: \", user_input )"
   ]
  },
  {
   "cell_type": "markdown",
   "metadata": {},
   "source": [
    "Here we give the user a prompt. We can take the user input and make it into a number with `int()`"
   ]
  },
  {
   "cell_type": "code",
   "execution_count": null,
   "metadata": {
    "ExecuteTime": {
     "end_time": "2018-03-26T23:13:28.336880Z",
     "start_time": "2018-03-26T23:13:25.211785Z"
    }
   },
   "outputs": [],
   "source": [
    "user_input = input(\"What number would you like to add 3 to?\")\n",
    "print(user_input, \"plus 3 is\", int(user_input) + 3)"
   ]
  },
  {
   "cell_type": "markdown",
   "metadata": {},
   "source": [
    "Now, write code to ask for 10 guesses, respond by repeating the guess back to the user, and then print a messge that let's the user know when 10 guesses have been asked. Don't worry about doing anything else for now. This may not seem very useful at the moment, but we'll get to something useful soon."
   ]
  },
  {
   "cell_type": "code",
   "execution_count": null,
   "metadata": {
    "ExecuteTime": {
     "end_time": "2018-03-26T23:16:08.973971Z",
     "start_time": "2018-03-26T23:16:08.970350Z"
    }
   },
   "outputs": [],
   "source": [
    "## 10 guess code goes here"
   ]
  },
  {
   "cell_type": "markdown",
   "metadata": {},
   "source": [
    "## Step 3\n",
    "\n",
    "Finally, put the code from your last two steps to use by integrating them. You should be able to make the full game"
   ]
  },
  {
   "cell_type": "code",
   "execution_count": null,
   "metadata": {},
   "outputs": [],
   "source": []
  },
  {
   "cell_type": "code",
   "execution_count": null,
   "metadata": {},
   "outputs": [],
   "source": []
  },
  {
   "cell_type": "code",
   "execution_count": null,
   "metadata": {},
   "outputs": [],
   "source": []
  },
  {
   "cell_type": "markdown",
   "metadata": {},
   "source": [
    "# Bonus material"
   ]
  },
  {
   "cell_type": "markdown",
   "metadata": {
    "run_control": {
     "frozen": false,
     "read_only": false
    }
   },
   "source": [
    "### Args vs Kwargs"
   ]
  },
  {
   "cell_type": "markdown",
   "metadata": {
    "run_control": {
     "frozen": false,
     "read_only": false
    }
   },
   "source": [
    "One of the main complexities that comes up in Python functions is: what if I need an argument with a default value (e.g. it's USUALLY this, but I want to allow the programmer to change it as necessary)? That's where Kwargs come in. Let's look at an example."
   ]
  },
  {
   "cell_type": "code",
   "execution_count": null,
   "metadata": {
    "run_control": {
     "frozen": false,
     "read_only": false
    }
   },
   "outputs": [],
   "source": [
    "def raise_to_power(x, power=2):\n",
    "    return x**power\n",
    "\n",
    "print(raise_to_power(4)) # no Kwarg, so use default of power=2\n",
    "\n",
    "print(raise_to_power(4,power=3)) # Kwarg found, so use the value assigned!"
   ]
  },
  {
   "cell_type": "markdown",
   "metadata": {
    "run_control": {
     "frozen": false,
     "read_only": false
    }
   },
   "source": [
    "Here we've created a function that raises a number (x) to some power. In this case, `x` is an argument of the function. However, `power` is also something a user can specify, but it DOES have a default value (2). So if we call the function and never say, `power = #`, the function assumes `power=2`. Thus, `power` is called a Kwarg or **K**ey**W**ord **ARG**ument. Kwargs must always be defined with a default value in the function, and must always be listed after all of the 'regular' arguments. Kwargs are a really handy way of setting default values in functions, while still givng the user some flexibility. It's a slightly more advanced topic, so we'll just cover the basic idea here."
   ]
  },
  {
   "cell_type": "markdown",
   "metadata": {},
   "source": [
    "**Exercise 10:**\n",
    "\n",
    "> Write a function called `tip_calculator`. It should take in a bill amount, and a tip percentage expressed as a decimal (e.g. 0.25 for a 25% tip). The default tip amount should be 18%."
   ]
  },
  {
   "cell_type": "markdown",
   "metadata": {},
   "source": [
    "## List comprehensions"
   ]
  },
  {
   "cell_type": "markdown",
   "metadata": {},
   "source": [
    "List comprehensions are a common way to transform one list into another. They are most commonly used when you need to apply a function to every element of a list to get another list, making them useful for many data analysis and manipulation tasks. Plus, in terms of learning, they are a nice way to tie together the concepts about data structures and functions we have just learned."
   ]
  },
  {
   "cell_type": "markdown",
   "metadata": {},
   "source": [
    "Let's say you have scores on the sentiment of your customers, and you want to transform those into a feature you might use in a model that would have the value \"Happy\" if the score is at least 5 and \"Not happy\" otherwise. You could do this transformation as follows:"
   ]
  },
  {
   "cell_type": "code",
   "execution_count": null,
   "metadata": {},
   "outputs": [],
   "source": [
    "sentiment_scores = [3, 4, 2, 5, 7, 1, 5, 4, 2]\n",
    "\n",
    "def score_to_happy(score):\n",
    "    if score >= 5:\n",
    "        return \"Happy\"\n",
    "    else: \n",
    "        return \"Not happy\"\n",
    "\n",
    "happy_scores = [score_to_happy(score) for score in sentiment_scores]\n",
    "\n",
    "print(\"happy_scores:\", happy_scores)"
   ]
  },
  {
   "cell_type": "markdown",
   "metadata": {},
   "source": [
    "# Solutions"
   ]
  },
  {
   "cell_type": "markdown",
   "metadata": {
    "run_control": {
     "frozen": false,
     "read_only": false
    }
   },
   "source": [
    "**Exercise 1:**"
   ]
  },
  {
   "cell_type": "code",
   "execution_count": null,
   "metadata": {
    "run_control": {
     "frozen": false,
     "read_only": false
    }
   },
   "outputs": [],
   "source": [
    "hello_world_list = ['hello','world']\n",
    "print(hello_world_list)"
   ]
  },
  {
   "cell_type": "markdown",
   "metadata": {
    "run_control": {
     "frozen": false,
     "read_only": false
    }
   },
   "source": [
    "**Exercise 2: **"
   ]
  },
  {
   "cell_type": "code",
   "execution_count": null,
   "metadata": {
    "run_control": {
     "frozen": false,
     "read_only": false
    }
   },
   "outputs": [],
   "source": [
    "values = [1,2,3,4,5]\n",
    "sm = values[0]+values[1]+values[2]+values[3]+values[4]\n",
    "print(\"The Sum is: \",sm)"
   ]
  },
  {
   "cell_type": "markdown",
   "metadata": {},
   "source": [
    "**Exercise 3: **"
   ]
  },
  {
   "cell_type": "code",
   "execution_count": null,
   "metadata": {},
   "outputs": [],
   "source": [
    "values = [1,2,3,4,5]\n",
    "sm = 0\n",
    "sm2 = 0\n",
    "for val in values:\n",
    "    sm = sm + val\n",
    "    sm2 += val # Note, these are completely equivalent! += just means, add it to the current value on the left side.\n",
    "print(sm)\n",
    "print(sm2)"
   ]
  },
  {
   "cell_type": "markdown",
   "metadata": {},
   "source": [
    "**Exercise 4: **"
   ]
  },
  {
   "cell_type": "code",
   "execution_count": null,
   "metadata": {},
   "outputs": [],
   "source": [
    "a_list = ['a', 'b', 'c', 'd', 'e']\n",
    "print(a_list[::-1])"
   ]
  },
  {
   "cell_type": "markdown",
   "metadata": {},
   "source": [
    "**Exercise 5:**"
   ]
  },
  {
   "cell_type": "code",
   "execution_count": null,
   "metadata": {},
   "outputs": [],
   "source": [
    "string1 = \"Blackrock\"\n",
    "print(string1[-4:])"
   ]
  },
  {
   "cell_type": "markdown",
   "metadata": {},
   "source": [
    "**Exercise 6:**"
   ]
  },
  {
   "cell_type": "code",
   "execution_count": null,
   "metadata": {},
   "outputs": [],
   "source": [
    "string2 = \"How much wood could a woodchuck chuck if a woodchuck could chuch wood?\"\n",
    "print(len(string2) % 17)"
   ]
  },
  {
   "cell_type": "markdown",
   "metadata": {},
   "source": [
    "**Exercise 7:**"
   ]
  },
  {
   "cell_type": "code",
   "execution_count": null,
   "metadata": {},
   "outputs": [],
   "source": [
    "dict1 = {'United States': 'Washington D.C.', \n",
    "         'China': 'Beijing'}\n",
    "\n",
    "dict2 = {'United States': {'Capital': 'Washington D.C.',\n",
    "                           'Continent': 'North America'},\n",
    "         'China': {'Capital': 'Beijing', \n",
    "                   'Continent': 'North America'}}\n"
   ]
  },
  {
   "cell_type": "markdown",
   "metadata": {},
   "source": [
    "**Exercise 8:**"
   ]
  },
  {
   "cell_type": "code",
   "execution_count": null,
   "metadata": {},
   "outputs": [],
   "source": [
    "def cube_plus_seven(x):\n",
    "    return x**3+7\n",
    "\n",
    "print(cube_plus_seven(2))"
   ]
  },
  {
   "cell_type": "markdown",
   "metadata": {},
   "source": [
    "**Exercise 9:**"
   ]
  },
  {
   "cell_type": "code",
   "execution_count": null,
   "metadata": {},
   "outputs": [],
   "source": [
    "def sum_of_list(li):\n",
    "    sm = 0\n",
    "    for el in li:\n",
    "        sm+=el\n",
    "    return sm\n",
    "\n",
    "print(sum_of_list([1,2,3,4,5]))"
   ]
  },
  {
   "cell_type": "markdown",
   "metadata": {},
   "source": [
    "**Exercise 10:**"
   ]
  },
  {
   "cell_type": "code",
   "execution_count": null,
   "metadata": {},
   "outputs": [],
   "source": [
    "def calculate_tip(bill_amount, tip=0.18):\n",
    "    return bill_amount * tip\n",
    "\n",
    "print(\"calculate_tip(100):\", calculate_tip(100))\n",
    "print(\"calculate_tip(100, 0.15):\", calculate_tip(100, tip=0.15))"
   ]
  }
 ],
 "metadata": {
  "kernelspec": {
   "display_name": "Python 3",
   "language": "python",
   "name": "python3"
  },
  "language_info": {
   "codemirror_mode": {
    "name": "ipython",
    "version": 3
   },
   "file_extension": ".py",
   "mimetype": "text/x-python",
   "name": "python",
   "nbconvert_exporter": "python",
   "pygments_lexer": "ipython3",
   "version": "3.6.4"
  },
  "toc": {
   "nav_menu": {},
   "number_sections": true,
   "sideBar": true,
   "skip_h1_title": false,
   "toc_cell": false,
   "toc_position": {},
   "toc_section_display": "block",
   "toc_window_display": false
  },
  "varInspector": {
   "cols": {
    "lenName": 16,
    "lenType": 16,
    "lenVar": 40
   },
   "kernels_config": {
    "python": {
     "delete_cmd_postfix": "",
     "delete_cmd_prefix": "del ",
     "library": "var_list.py",
     "varRefreshCmd": "print(var_dic_list())"
    },
    "r": {
     "delete_cmd_postfix": ") ",
     "delete_cmd_prefix": "rm(",
     "library": "var_list.r",
     "varRefreshCmd": "cat(var_dic_list()) "
    }
   },
   "types_to_exclude": [
    "module",
    "function",
    "builtin_function_or_method",
    "instance",
    "_Feature"
   ],
   "window_display": false
  }
 },
 "nbformat": 4,
 "nbformat_minor": 2
}
